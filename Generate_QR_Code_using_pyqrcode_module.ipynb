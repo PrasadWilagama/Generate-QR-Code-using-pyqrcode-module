{
  "nbformat": 4,
  "nbformat_minor": 0,
  "metadata": {
    "colab": {
      "provenance": []
    },
    "kernelspec": {
      "name": "python3",
      "display_name": "Python 3"
    },
    "language_info": {
      "name": "python"
    }
  },
  "cells": [
    {
      "cell_type": "code",
      "source": [
        "pip install pyqrcode"
      ],
      "metadata": {
        "colab": {
          "base_uri": "https://localhost:8080/"
        },
        "id": "caxYUKboktYq",
        "outputId": "8ea93c6c-3068-4e15-f078-d073660f820a"
      },
      "execution_count": 8,
      "outputs": [
        {
          "output_type": "stream",
          "name": "stdout",
          "text": [
            "Looking in indexes: https://pypi.org/simple, https://us-python.pkg.dev/colab-wheels/public/simple/\n",
            "Requirement already satisfied: pyqrcode in /usr/local/lib/python3.8/dist-packages (1.2.1)\n"
          ]
        }
      ]
    },
    {
      "cell_type": "code",
      "source": [
        "pip install pypng"
      ],
      "metadata": {
        "colab": {
          "base_uri": "https://localhost:8080/"
        },
        "id": "-1P7xfhblxBi",
        "outputId": "e7ac175a-4721-4d1d-fa3b-e8e80ed001f1"
      },
      "execution_count": 9,
      "outputs": [
        {
          "output_type": "stream",
          "name": "stdout",
          "text": [
            "Looking in indexes: https://pypi.org/simple, https://us-python.pkg.dev/colab-wheels/public/simple/\n",
            "Requirement already satisfied: pypng in /usr/local/lib/python3.8/dist-packages (0.20220715.0)\n"
          ]
        }
      ]
    },
    {
      "cell_type": "code",
      "source": [
        "# Import QRCode from pyqrcode\n",
        "import pyqrcode\n",
        "import png\n",
        "from pyqrcode import QRCode\n",
        "\n",
        "\n",
        "# String which represents the QR code\n",
        "s = \"https://twitter.com/DWilagama\"\n",
        "\n",
        "# Generate QR code\n",
        "url = pyqrcode.create(s)\n",
        "\n",
        "# Create and save the svg file naming \"myqr.svg\"\n",
        "url.svg(\"myqr.svg\", scale = 8)\n",
        "\n",
        "# Create and save the png file naming \"myqr.png\"\n",
        "url.png('myqr.png', scale = 6)\n",
        "\n"
      ],
      "metadata": {
        "id": "MLGQr9gTlCgb"
      },
      "execution_count": 10,
      "outputs": []
    }
  ]
}